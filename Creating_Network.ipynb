{
 "cells": [
  {
   "cell_type": "code",
   "execution_count": 1,
   "id": "9eca0e93",
   "metadata": {},
   "outputs": [],
   "source": [
    "%load_ext autoreload\n",
    "%autoreload 2\n",
    "\n",
    "import logging\n",
    "logging.basicConfig(level=logging.INFO, format='%(asctime)s - %(levelname)s - %(message)s')"
   ]
  },
  {
   "cell_type": "markdown",
   "id": "a0c07a31",
   "metadata": {},
   "source": [
    "# Making Network"
   ]
  },
  {
   "cell_type": "code",
   "execution_count": 2,
   "id": "3facb9f1",
   "metadata": {},
   "outputs": [],
   "source": [
    "import numpy as np \n",
    "\n",
    "sydney_data = np.load('data/sydney_data/Sydney_Data.npz')\n",
    "gene_annot = sydney_data['Gene_Annot']\n",
    "genes = gene_annot[:,1]"
   ]
  },
  {
   "cell_type": "markdown",
   "id": "7606f923",
   "metadata": {
    "heading_collapsed": true
   },
   "source": [
    "## 1. Gene Ontology"
   ]
  },
  {
   "cell_type": "code",
   "execution_count": null,
   "id": "096ef249",
   "metadata": {
    "hidden": true
   },
   "outputs": [],
   "source": [
    "from clinnet.network_go import GO, maps_info"
   ]
  },
  {
   "cell_type": "code",
   "execution_count": null,
   "id": "62f16c75",
   "metadata": {
    "hidden": true
   },
   "outputs": [],
   "source": [
    "go = GO()"
   ]
  },
  {
   "cell_type": "code",
   "execution_count": null,
   "id": "2006d2c7",
   "metadata": {
    "hidden": true
   },
   "outputs": [],
   "source": [
    "%%time\n",
    "# save total GO layer maps\n",
    "for i in range(2, 10):\n",
    "    maps = go.create_network_adj(n_hid=i, class_wise=False)"
   ]
  },
  {
   "cell_type": "code",
   "execution_count": null,
   "id": "fd60938b",
   "metadata": {
    "hidden": true
   },
   "outputs": [],
   "source": [
    "%%time\n",
    "# save calss-wise GO layer maps \n",
    "for i in range(2, 10):\n",
    "    maps = go.create_network_adj(n_hid=i, class_wise=True)"
   ]
  },
  {
   "cell_type": "code",
   "execution_count": null,
   "id": "27e54a6d",
   "metadata": {
    "hidden": true
   },
   "outputs": [],
   "source": [
    "# choose a cut-off for slicing the total Gene Ontology graph\n",
    "for i in range(2, 10):\n",
    "    maps_info(genes, maps_file=f'clinnet/Gene_Ontology/adjacency_matrix/maps_hid_num_{i}_total.pkl',\n",
    "             just_involved_gene=True)"
   ]
  },
  {
   "cell_type": "code",
   "execution_count": null,
   "id": "0ab0285e",
   "metadata": {
    "hidden": true
   },
   "outputs": [],
   "source": [
    "# choose a cut-off for slicing the Class-Wise graph\n",
    "for c in go.go_node.GO_class.unique():\n",
    "    for i in range(2, 10):\n",
    "        maps_info(genes,\n",
    "        maps_file=f'clinnet/Gene_Ontology/adjacency_matrix/maps_hid_num_{i}_{c}.pkl',\n",
    "                 just_involved_gene=True)"
   ]
  },
  {
   "cell_type": "markdown",
   "id": "ee9e9330",
   "metadata": {},
   "source": [
    "## 2. Reactome"
   ]
  },
  {
   "cell_type": "code",
   "execution_count": 11,
   "id": "0fe345a9",
   "metadata": {},
   "outputs": [],
   "source": [
    "from clinnet.network_reactome import Reactome, maps_info"
   ]
  },
  {
   "cell_type": "code",
   "execution_count": 12,
   "id": "725ae76d",
   "metadata": {},
   "outputs": [],
   "source": [
    "R = Reactome()"
   ]
  },
  {
   "cell_type": "code",
   "execution_count": null,
   "id": "0afc6172",
   "metadata": {},
   "outputs": [],
   "source": [
    "%%time\n",
    "# save total GO layer maps \n",
    "for i in range(2, 13):\n",
    "    maps = R.create_network_adj(i)"
   ]
  },
  {
   "cell_type": "code",
   "execution_count": null,
   "id": "9f56003c",
   "metadata": {},
   "outputs": [],
   "source": [
    "# choose a cut-off for slicing the Reactome graph \n",
    "for i in range(2,13):\n",
    "    maps_info(genes, f'clinnet/Reactome/adjacency_matrix/maps_hid_num_{i}.pkl',\n",
    "            just_involved_gene=True)"
   ]
  },
  {
   "cell_type": "markdown",
   "id": "00005dd6",
   "metadata": {},
   "source": [
    "# 3. Maps Connection"
   ]
  },
  {
   "cell_type": "code",
   "execution_count": 15,
   "id": "1ba58c73",
   "metadata": {},
   "outputs": [],
   "source": [
    "from clinnet.network_go import load_maps"
   ]
  },
  {
   "cell_type": "code",
   "execution_count": 16,
   "id": "c42fa998",
   "metadata": {},
   "outputs": [],
   "source": [
    "def map_con_info(path=None, maps=None):\n",
    "    if path:\n",
    "        maps = load_maps(path)\n",
    "    for n, m in maps.items():\n",
    "        print(f'{n}: {m.shape}, {sum(m.sum(axis=1)==0)}/{m.shape[0]}, {sum(m.sum(axis=0)==0)}/{m.shape[1]}')"
   ]
  },
  {
   "cell_type": "code",
   "execution_count": null,
   "id": "e098f637",
   "metadata": {},
   "outputs": [],
   "source": [
    "for i in range(2,10):\n",
    "    path = f'clinnet/Gene_Ontology/adjacency_matrix/maps_hid_num_{i}_total.pkl'\n",
    "    map_con_info(path = path)\n",
    "    print('')"
   ]
  },
  {
   "cell_type": "code",
   "execution_count": null,
   "id": "80e14799",
   "metadata": {},
   "outputs": [],
   "source": [
    "for i in range(2,10):\n",
    "    path = f'clinnet/Gene_Ontology/adjacency_matrix/maps_hid_num_{i}_biological_process.pkl'\n",
    "    map_con_info(path = path)\n",
    "    print('')"
   ]
  },
  {
   "cell_type": "code",
   "execution_count": null,
   "id": "36db5640",
   "metadata": {},
   "outputs": [],
   "source": [
    "for i in range(2,10):\n",
    "    path = f'clinnet/Gene_Ontology/adjacency_matrix/maps_hid_num_{i}_cellular_component.pkl'\n",
    "    map_con_info(path = path)\n",
    "    print('')"
   ]
  },
  {
   "cell_type": "code",
   "execution_count": null,
   "id": "78d71627",
   "metadata": {},
   "outputs": [],
   "source": [
    "for i in range(2,10):\n",
    "    path = f'clinnet/Gene_Ontology/adjacency_matrix/maps_hid_num_{i}_molecular_function.pkl'\n",
    "    map_con_info(path = path)\n",
    "    print('')"
   ]
  },
  {
   "cell_type": "code",
   "execution_count": null,
   "id": "e02aa4d0",
   "metadata": {},
   "outputs": [],
   "source": [
    "for i in range(2,13):\n",
    "    path = f'clinnet/Reactome/adjacency_matrix/maps_hid_num_{i}.pkl'\n",
    "    map_con_info(path = path)\n",
    "    print('')"
   ]
  }
 ],
 "metadata": {
  "kernelspec": {
   "display_name": "tensorflow",
   "language": "python",
   "name": "python3"
  },
  "language_info": {
   "codemirror_mode": {
    "name": "ipython",
    "version": 3
   },
   "file_extension": ".py",
   "mimetype": "text/x-python",
   "name": "python",
   "nbconvert_exporter": "python",
   "pygments_lexer": "ipython3",
   "version": "3.10.11"
  }
 },
 "nbformat": 4,
 "nbformat_minor": 5
}
